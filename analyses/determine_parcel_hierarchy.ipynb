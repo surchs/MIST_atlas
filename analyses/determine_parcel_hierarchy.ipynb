{
 "cells": [
  {
   "cell_type": "markdown",
   "metadata": {},
   "source": [
    "Create a n-1 ordering of ROIs such that each ROI at scale n is assigned to that ROI at scale n-1 that it overlaps maximally with. This order will determine the organization of ROI informtation in tables as well as the yet to be developed numbering system for ROIs."
   ]
  },
  {
   "cell_type": "code",
   "execution_count": 1,
   "metadata": {},
   "outputs": [],
   "source": [
    "import os\n",
    "import numpy as np\n",
    "import pandas as pd\n",
    "import nibabel as nib"
   ]
  },
  {
   "cell_type": "code",
   "execution_count": 2,
   "metadata": {},
   "outputs": [],
   "source": [
    "# Variables\n",
    "scales = [7, 12, 20, 36, 64, 122, 197, 325, 444, 'atoms']\n",
    "# Paths\n",
    "proj_p = '/home/surchs/GDrive/PhD/Paper/Multiscale_Atlas/Partitions/'\n",
    "temp_t = os.path.join(proj_p, 'scale_{}.nii.gz')\n",
    "out_p = '/home/surchs/GDrive/PhD/Paper/Multiscale_Atlas/Labels/roi_order_full.csv'"
   ]
  },
  {
   "cell_type": "code",
   "execution_count": 3,
   "metadata": {},
   "outputs": [],
   "source": [
    "def find_parent(mask, vol):\n",
    "    \"\"\"\n",
    "    Returns the winner take all overlap parent assignment\n",
    "    together with the percentage of overlap of the child.\n",
    "    \"\"\"\n",
    "    val, count = np.unique(vol[mask], return_counts=True)\n",
    "    p_id = np.argmax(count)\n",
    "    parent = val[p_id]\n",
    "    overlap = np.round((count[p_id]/np.sum(mask))*100,2)\n",
    "    \n",
    "    return parent, overlap"
   ]
  },
  {
   "cell_type": "code",
   "execution_count": 4,
   "metadata": {},
   "outputs": [],
   "source": [
    "# Load the templates\n",
    "temp = {scale:nib.load(temp_t.format(scale)).get_data()\n",
    "        for scale in scales}\n",
    "n_rois = {scale:len(np.unique(temp[scale]))-1 for scale in scales}"
   ]
  },
  {
   "cell_type": "code",
   "execution_count": 5,
   "metadata": {},
   "outputs": [],
   "source": [
    "# Find the parents\n",
    "parents = dict()\n",
    "for sid, scale in enumerate(scales[::-1]):\n",
    "    if scale == 7:\n",
    "        continue\n",
    "    n_roi = n_rois[scale]\n",
    "    child = scale\n",
    "    parent = scales[::-1][sid+1]\n",
    "    # Mask the child by the parents to take care of the removed midline in the rois\n",
    "    pmask = temp[parent]==0\n",
    "    ctemp = temp[child]\n",
    "    ctemp[pmask] = 0\n",
    "    parents[scale] = [find_parent(ctemp==roi, temp[parent])[0].astype(int) for roi in np.arange(1,n_roi+1)]"
   ]
  },
  {
   "cell_type": "code",
   "execution_count": 6,
   "metadata": {},
   "outputs": [],
   "source": [
    "# Create the order table from that information\n",
    "table = list()\n",
    "for roi in np.arange(1, n_rois[scales[-1]]+1):\n",
    "    decomp = [roi]\n",
    "    for scale in scales[::-1][:-1]:\n",
    "        parent = parents[scale][roi-1]\n",
    "        decomp.append(parent)\n",
    "        roi = parent\n",
    "    table.append(decomp[::-1])"
   ]
  },
  {
   "cell_type": "code",
   "execution_count": 8,
   "metadata": {},
   "outputs": [],
   "source": [
    "# Turn the table into a dataframe for easier sorting and saving\n",
    "df = pd.DataFrame(table, columns=['s7', 's12', 's20', 's36', 's64', 's122', 's197','s325','s444', 'sATOM'])\n",
    "df.sort_values(by=['s7', 's12', 's20', 's36', 's64', 's122', 's197','s325','s444', 'sATOM'], inplace=True)\n",
    "df.to_csv(out_p, index=False)"
   ]
  },
  {
   "cell_type": "code",
   "execution_count": 9,
   "metadata": {},
   "outputs": [
    {
     "data": {
      "text/html": [
       "<div>\n",
       "<style scoped>\n",
       "    .dataframe tbody tr th:only-of-type {\n",
       "        vertical-align: middle;\n",
       "    }\n",
       "\n",
       "    .dataframe tbody tr th {\n",
       "        vertical-align: top;\n",
       "    }\n",
       "\n",
       "    .dataframe thead th {\n",
       "        text-align: right;\n",
       "    }\n",
       "</style>\n",
       "<table border=\"1\" class=\"dataframe\">\n",
       "  <thead>\n",
       "    <tr style=\"text-align: right;\">\n",
       "      <th></th>\n",
       "      <th>s7</th>\n",
       "      <th>s12</th>\n",
       "      <th>s20</th>\n",
       "      <th>s36</th>\n",
       "      <th>s64</th>\n",
       "      <th>s122</th>\n",
       "      <th>s197</th>\n",
       "      <th>s325</th>\n",
       "      <th>s444</th>\n",
       "      <th>sATOM</th>\n",
       "    </tr>\n",
       "  </thead>\n",
       "  <tbody>\n",
       "    <tr>\n",
       "      <th>1023</th>\n",
       "      <td>1</td>\n",
       "      <td>12</td>\n",
       "      <td>4</td>\n",
       "      <td>1</td>\n",
       "      <td>6</td>\n",
       "      <td>48</td>\n",
       "      <td>84</td>\n",
       "      <td>13</td>\n",
       "      <td>101</td>\n",
       "      <td>1024</td>\n",
       "    </tr>\n",
       "    <tr>\n",
       "      <th>1029</th>\n",
       "      <td>1</td>\n",
       "      <td>12</td>\n",
       "      <td>4</td>\n",
       "      <td>1</td>\n",
       "      <td>6</td>\n",
       "      <td>48</td>\n",
       "      <td>84</td>\n",
       "      <td>13</td>\n",
       "      <td>101</td>\n",
       "      <td>1030</td>\n",
       "    </tr>\n",
       "    <tr>\n",
       "      <th>1021</th>\n",
       "      <td>1</td>\n",
       "      <td>12</td>\n",
       "      <td>4</td>\n",
       "      <td>1</td>\n",
       "      <td>6</td>\n",
       "      <td>48</td>\n",
       "      <td>84</td>\n",
       "      <td>134</td>\n",
       "      <td>218</td>\n",
       "      <td>1022</td>\n",
       "    </tr>\n",
       "    <tr>\n",
       "      <th>1022</th>\n",
       "      <td>1</td>\n",
       "      <td>12</td>\n",
       "      <td>4</td>\n",
       "      <td>1</td>\n",
       "      <td>6</td>\n",
       "      <td>48</td>\n",
       "      <td>84</td>\n",
       "      <td>134</td>\n",
       "      <td>218</td>\n",
       "      <td>1023</td>\n",
       "    </tr>\n",
       "    <tr>\n",
       "      <th>1084</th>\n",
       "      <td>1</td>\n",
       "      <td>12</td>\n",
       "      <td>4</td>\n",
       "      <td>1</td>\n",
       "      <td>6</td>\n",
       "      <td>48</td>\n",
       "      <td>84</td>\n",
       "      <td>134</td>\n",
       "      <td>218</td>\n",
       "      <td>1085</td>\n",
       "    </tr>\n",
       "  </tbody>\n",
       "</table>\n",
       "</div>"
      ],
      "text/plain": [
       "      s7  s12  s20  s36  s64  s122  s197  s325  s444  sATOM\n",
       "1023   1   12    4    1    6    48    84    13   101   1024\n",
       "1029   1   12    4    1    6    48    84    13   101   1030\n",
       "1021   1   12    4    1    6    48    84   134   218   1022\n",
       "1022   1   12    4    1    6    48    84   134   218   1023\n",
       "1084   1   12    4    1    6    48    84   134   218   1085"
      ]
     },
     "execution_count": 9,
     "metadata": {},
     "output_type": "execute_result"
    }
   ],
   "source": [
    "df.head()"
   ]
  }
 ],
 "metadata": {
  "kernelspec": {
   "display_name": "p36 (auto)",
   "language": "python",
   "name": "auto"
  },
  "language_info": {
   "codemirror_mode": {
    "name": "ipython",
    "version": 3
   },
   "file_extension": ".py",
   "mimetype": "text/x-python",
   "name": "python",
   "nbconvert_exporter": "python",
   "pygments_lexer": "ipython3",
   "version": "3.5.5"
  }
 },
 "nbformat": 4,
 "nbformat_minor": 2
}
