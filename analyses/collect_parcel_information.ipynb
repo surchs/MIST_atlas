{
 "cells": [
  {
   "cell_type": "code",
   "execution_count": 1,
   "metadata": {},
   "outputs": [],
   "source": [
    "import os\n",
    "import numpy as np\n",
    "import pandas as pd\n",
    "import nibabel as nib\n",
    "from scipy import ndimage as spn"
   ]
  },
  {
   "cell_type": "code",
   "execution_count": 2,
   "metadata": {},
   "outputs": [],
   "source": [
    "# Current labels\n",
    "scales = ['7', '12', '20', '36', '64', '122', 'ROI']\n",
    "names_p = '/home/surchs/GDrive/PhD/Paper/Multiscale_Atlas/Labels/roi_label_scale_{}.csv'\n",
    "proj_p = '/home/surchs/GDrive/PhD/Paper/Multiscale_Atlas/Labels/'\n",
    "atlas_p = '/home/surchs/GDrive/PhD/Paper/Multiscale_Atlas/Partitions/scale_{}.nii.gz'"
   ]
  },
  {
   "cell_type": "code",
   "execution_count": 3,
   "metadata": {},
   "outputs": [],
   "source": [
    "def find_symmetry(mask, affine):\n",
    "    \"\"\"\n",
    "    Take the left side of the mask\n",
    "    and flip it onto the right side \n",
    "    to check their overlap\n",
    "    Bilaterality is continually coded:\n",
    "    left: +1\n",
    "    right: -1\n",
    "    \"\"\"\n",
    "    # Get the midline\n",
    "    origin = nib.affines.apply_affine(np.linalg.inv(affine), (0, 0, 0))\n",
    "    midline = np.floor(origin[0]).astype(int)\n",
    "    # Create the left and right section of the mask\n",
    "    mask_left = np.zeros_like(mask)\n",
    "    mask_right = np.zeros_like(mask)\n",
    "    # Write the respective sections\n",
    "    mask_left[:midline, ...] = mask[:midline, ...]\n",
    "    mask_right[midline+1:, ...] = mask[midline+1:, ...]\n",
    "    # Flip the left mask\n",
    "    mask_flip = np.flip(mask_left, 0)\n",
    "    # Compute dice\n",
    "    dice = np.round(2*np.sum(mask_flip&mask_right)/(np.sum(mask_flip) + np.sum(mask_right)),2)\n",
    "    # Check if the mask is bilateral\n",
    "    bilateral = np.round((np.sum(mask_left) - np.sum(mask_right))/np.sum(mask),3)\n",
    "    \n",
    "    return dice, bilateral"
   ]
  },
  {
   "cell_type": "code",
   "execution_count": 4,
   "metadata": {},
   "outputs": [],
   "source": [
    "def find_neighbour(roi, atlas):\n",
    "    mask = atlas==roi\n",
    "    dil_mask = spn.binary_dilation(mask)\n",
    "    # Find guys\n",
    "    neighbours = [n for n in np.unique(atlas[dil_mask]).astype(int) if not n==0 and not n==roi]\n",
    "    return neighbours"
   ]
  },
  {
   "cell_type": "code",
   "execution_count": 5,
   "metadata": {},
   "outputs": [],
   "source": [
    "# Get the atlas and backup names\n",
    "atlas_i = nib.load(atlas_p.format(scales[0]))\n",
    "affine = atlas_i.affine\n",
    "atlas = {scale:nib.load(atlas_p.format(scale)).get_data() for scale in scales}\n",
    "names = {scale:pd.read_csv(names_p.format(scale)) for scale in scales}"
   ]
  },
  {
   "cell_type": "code",
   "execution_count": 8,
   "metadata": {},
   "outputs": [],
   "source": [
    "# Get stats on some of these guys\n",
    "for scale in scales:\n",
    "    # Get the ROIs\n",
    "    template = atlas[scale]\n",
    "    name = names[scale]\n",
    "    rois = np.unique(template[template!=0])\n",
    "    tl = list()\n",
    "    for roi in rois:\n",
    "        roi_mask = template==roi\n",
    "        roi_lab = name[name['ROI']==roi]['roi_label'].values[0]\n",
    "        roi_nam = name[name['ROI']==roi]['roi_name'].values[0]\n",
    "        symmetry, laterality = find_symmetry(roi_mask, affine)\n",
    "        com_vox = spn.measurements.center_of_mass(roi_mask)\n",
    "        com_mni = np.round(nib.affines.apply_affine(affine, com_vox), 2)\n",
    "        size = np.sum(roi_mask)\n",
    "        neighbours = find_neighbour(roi, template)\n",
    "        tl.append({'roi':roi.astype(int), \n",
    "                   'label':roi_lab, \n",
    "                   'name':roi_nam, \n",
    "                   'size':size, \n",
    "                   'symmetry':symmetry, \n",
    "                   'laterality':laterality,\n",
    "                   'x':com_mni[0],\n",
    "                   'y':com_mni[1],\n",
    "                   'z':com_mni[2],\n",
    "                   'neighbour':neighbours})\n",
    "    table = pd.DataFrame(tl, columns=['roi', 'label', 'name', 'size', \n",
    "                                      'symmetry', 'laterality', \n",
    "                                      'x', 'y', 'z',\n",
    "                                      'neighbour'])\n",
    "    # Save the table\n",
    "    table.to_csv(os.path.join(proj_p, 'roi_label_scale_{}.csv'.format(scale)), sep=';', index=False)"
   ]
  }
 ],
 "metadata": {
  "kernelspec": {
   "display_name": "p36 (auto)",
   "language": "python",
   "name": "auto"
  },
  "language_info": {
   "codemirror_mode": {
    "name": "ipython",
    "version": 3
   },
   "file_extension": ".py",
   "mimetype": "text/x-python",
   "name": "python",
   "nbconvert_exporter": "python",
   "pygments_lexer": "ipython3",
   "version": "3.5.5"
  }
 },
 "nbformat": 4,
 "nbformat_minor": 2
}
